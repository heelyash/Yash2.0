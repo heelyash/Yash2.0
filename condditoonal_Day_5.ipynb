{
  "nbformat": 4,
  "nbformat_minor": 0,
  "metadata": {
    "colab": {
      "provenance": []
    },
    "kernelspec": {
      "name": "python3",
      "display_name": "Python 3"
    },
    "language_info": {
      "name": "python"
    }
  },
  "cells": [
    {
      "cell_type": "code",
      "execution_count": null,
      "metadata": {
        "id": "wJSt6-9fN4YC"
      },
      "outputs": [],
      "source": [
        "# Flow control"
      ]
    },
    {
      "cell_type": "code",
      "source": [
        "#condittional >> i wwill play the matchh iiff the weather is sunnnyy"
      ],
      "metadata": {
        "id": "FEeNWTGOPOaq"
      },
      "execution_count": null,
      "outputs": []
    },
    {
      "cell_type": "code",
      "source": [
        "#loop  >> In chain or all the dishes ffinish in thhe buufffet"
      ],
      "metadata": {
        "id": "jZ2WsPgyQRnm"
      },
      "execution_count": null,
      "outputs": []
    },
    {
      "cell_type": "code",
      "source": [
        "#break statment i wwill check out the disheshh untill i get pasta"
      ],
      "metadata": {
        "id": "JZ32QGE0QqVD"
      },
      "execution_count": null,
      "outputs": []
    },
    {
      "cell_type": "code",
      "source": [
        "#condittional  >>> help us to code decsion acc to given pre cconddition\n",
        "\n",
        "#if\n",
        "#if else\n",
        "#nested if else"
      ],
      "metadata": {
        "id": "e0-ToAwIQ2vy"
      },
      "execution_count": null,
      "outputs": []
    },
    {
      "cell_type": "code",
      "source": [
        "a =  100\n",
        "if a > 0:  #excuttive if the condition\n",
        "  print(\"The number is greaater than 0.\")\n",
        "\n",
        "\n"
      ],
      "metadata": {
        "colab": {
          "base_uri": "https://localhost:8080/"
        },
        "id": "4bKYPx8wSNHU",
        "outputId": "05599b98-7c93-4c03-c7cf-91f7e5ace2f8"
      },
      "execution_count": null,
      "outputs": [
        {
          "output_type": "stream",
          "name": "stdout",
          "text": [
            "The number is greaater than 0.\n"
          ]
        }
      ]
    },
    {
      "cell_type": "code",
      "source": [
        "b =  500\n",
        "if b < 400:\n",
        "  print(\"The number is less than 400\")"
      ],
      "metadata": {
        "id": "Zjfwp9inS-ng"
      },
      "execution_count": null,
      "outputs": []
    },
    {
      "cell_type": "code",
      "source": [
        "weather = \"rainy\"\n",
        "if weather ==  \"rainy\":\n",
        "  print(\"i will not play cricket\")"
      ],
      "metadata": {
        "colab": {
          "base_uri": "https://localhost:8080/"
        },
        "id": "4IyYxH1vTZGC",
        "outputId": "b7d04398-99f3-4bcd-e0fc-93e0fc939a88"
      },
      "execution_count": null,
      "outputs": [
        {
          "output_type": "stream",
          "name": "stdout",
          "text": [
            "i will not play cricket\n"
          ]
        }
      ]
    },
    {
      "cell_type": "code",
      "source": [
        "weather = \"sunny\"\n",
        "if weather == \"sunny\":\n",
        "  print(\"i will  play cricket\") #indendationn is neccessary"
      ],
      "metadata": {
        "colab": {
          "base_uri": "https://localhost:8080/"
        },
        "id": "3QXO4kdyU1IA",
        "outputId": "bba89c8b-4b9e-4cf4-f34f-cd212cc8ba3d"
      },
      "execution_count": null,
      "outputs": [
        {
          "output_type": "stream",
          "name": "stdout",
          "text": [
            "i will  play cricket\n"
          ]
        }
      ]
    },
    {
      "cell_type": "code",
      "source": [
        "temp  = 30\n",
        "if temp>25:\n",
        "  print(\"room temp\")"
      ],
      "metadata": {
        "colab": {
          "base_uri": "https://localhost:8080/"
        },
        "id": "-fDw_kg0YITR",
        "outputId": "77681227-b30a-46f4-9052-6919dc2e7ee1"
      },
      "execution_count": null,
      "outputs": [
        {
          "output_type": "stream",
          "name": "stdout",
          "text": [
            "room temp\n"
          ]
        }
      ]
    },
    {
      "cell_type": "code",
      "source": [
        "wrong = \"levis\"\n",
        "if wrong == \"levis\":\n",
        "  print(\"levis selling wrong item\")"
      ],
      "metadata": {
        "colab": {
          "base_uri": "https://localhost:8080/"
        },
        "id": "xxFUTIeiaKX6",
        "outputId": "782b7119-4fe0-4c74-dfef-2a712b7972e4"
      },
      "execution_count": null,
      "outputs": [
        {
          "output_type": "stream",
          "name": "stdout",
          "text": [
            "levis selling wrong item\n"
          ]
        }
      ]
    },
    {
      "cell_type": "code",
      "source": [
        "# Descion are made on the multiple conditon"
      ],
      "metadata": {
        "id": "4v-iwLAlanF5"
      },
      "execution_count": null,
      "outputs": []
    },
    {
      "cell_type": "code",
      "source": [
        "Rishi = \"defaulter\"\n",
        "if Rishi == \"defaulter\":\n",
        "  print(\"Rishi is defaulter\")"
      ],
      "metadata": {
        "colab": {
          "base_uri": "https://localhost:8080/"
        },
        "id": "Wno0dYkpc2c1",
        "outputId": "2a1a37c0-f5ef-471c-88f1-c93051442908"
      },
      "execution_count": null,
      "outputs": [
        {
          "output_type": "stream",
          "name": "stdout",
          "text": [
            "Rishi is defaulter\n"
          ]
        }
      ]
    },
    {
      "cell_type": "code",
      "source": [
        "a = 500\n",
        "if a / 2 == 500:\n",
        "  print(\"a is even\")"
      ],
      "metadata": {
        "id": "seU4uNE3dId3"
      },
      "execution_count": null,
      "outputs": []
    },
    {
      "cell_type": "code",
      "source": [
        "tvs = \"8km\"\n",
        "petrol = 50\n",
        "if ((tvs == \"8km\") and (petrol == 50)):\n",
        "  print(\"tvs is travelling 8km in 50rs\")"
      ],
      "metadata": {
        "colab": {
          "base_uri": "https://localhost:8080/"
        },
        "id": "SdOfNUWkfzWg",
        "outputId": "e4093caf-254d-47c4-fe03-6d284f674767"
      },
      "execution_count": null,
      "outputs": [
        {
          "output_type": "stream",
          "name": "stdout",
          "text": [
            "tvs is travelling 8km in 50rs\n"
          ]
        }
      ]
    },
    {
      "cell_type": "code",
      "source": [
        "seth = \"money in the bank\"\n",
        "wwe = \"1time\"\n",
        "if ((seth == \"money in the bank\") and (wwe == \"1time\")):\n",
        "  print(\"seth rollin is the winner of both\")"
      ],
      "metadata": {
        "colab": {
          "base_uri": "https://localhost:8080/"
        },
        "id": "7H5EJlmggMx8",
        "outputId": "5d3e4865-e938-4ec5-8193-b7d82c3e39af"
      },
      "execution_count": null,
      "outputs": [
        {
          "output_type": "stream",
          "name": "stdout",
          "text": [
            "seth rollin is the winner of both\n"
          ]
        }
      ]
    },
    {
      "cell_type": "code",
      "source": [
        "#in real life if one condition is not fullfilled you wwil do something else\n",
        "#example :: if weather is not rainy , i will go to play cricket else i will\n",
        "#watch tv\n"
      ],
      "metadata": {
        "id": "xqxZdJpiiN_b"
      },
      "execution_count": null,
      "outputs": []
    },
    {
      "cell_type": "code",
      "source": [
        "a = \"rishi is coming to office\"\n",
        "if a == \"rishi is not coming to office\":\n",
        "  print(\"rishi is not coming to office\")\n",
        "else:\n",
        "  print(\"i am not going office too\")\n"
      ],
      "metadata": {
        "colab": {
          "base_uri": "https://localhost:8080/"
        },
        "id": "tXbSVDUVkGMd",
        "outputId": "d64f4235-79d2-4500-fce5-6bd1f2771bcf"
      },
      "execution_count": null,
      "outputs": [
        {
          "output_type": "stream",
          "name": "stdout",
          "text": [
            "i am not going office too\n"
          ]
        }
      ]
    },
    {
      "cell_type": "code",
      "source": [
        "a = \"sharad is drink\"\n",
        "if a == \"sharad is not drink\":\n",
        "  print(\"sharad is not drink\")\n",
        "else:\n",
        "  print(\"if yash don't drink then sharad will drink\")"
      ],
      "metadata": {
        "colab": {
          "base_uri": "https://localhost:8080/"
        },
        "id": "_Tybt-ZclDog",
        "outputId": "44fe9c14-1bc2-40b5-dd58-95d9fe83b383"
      },
      "execution_count": null,
      "outputs": [
        {
          "output_type": "stream",
          "name": "stdout",
          "text": [
            "if yash don't drink then sharad will drink\n"
          ]
        }
      ]
    },
    {
      "cell_type": "code",
      "source": [
        "age = 20\n",
        "if age < 15:\n",
        "  print(\"you can get married\")\n",
        "else:\n",
        "    print(\"you can not get married\")"
      ],
      "metadata": {
        "colab": {
          "base_uri": "https://localhost:8080/"
        },
        "id": "r42HTnhomgKy",
        "outputId": "80578393-4c70-433a-89b6-bdd644806d46"
      },
      "execution_count": null,
      "outputs": [
        {
          "output_type": "stream",
          "name": "stdout",
          "text": [
            "you can not get married\n"
          ]
        }
      ]
    },
    {
      "cell_type": "code",
      "source": [
        "sun_east = False\n",
        "if sun_east:\n",
        "  print(\"sun is not east\")\n",
        "else:\n",
        "  print(\"if sun is not rise there is end of the world\")"
      ],
      "metadata": {
        "colab": {
          "base_uri": "https://localhost:8080/"
        },
        "id": "wdfW1P2cq7Q2",
        "outputId": "dd8f9594-4ffd-42bc-b8b4-d706c7a7ef8a"
      },
      "execution_count": null,
      "outputs": [
        {
          "output_type": "stream",
          "name": "stdout",
          "text": [
            "if sun is not rise there is end of the world\n"
          ]
        }
      ]
    },
    {
      "cell_type": "code",
      "source": [
        "x = 10\n",
        "if x < 5:\n",
        "  print(\"x is less than 5\")\n",
        "\n",
        "else:\n",
        "  print(\"There is no less than5\")"
      ],
      "metadata": {
        "colab": {
          "base_uri": "https://localhost:8080/"
        },
        "id": "mtbERntOr-W1",
        "outputId": "0ff478cc-0769-4620-e7ab-a04dd1322ebe"
      },
      "execution_count": null,
      "outputs": [
        {
          "output_type": "stream",
          "name": "stdout",
          "text": [
            "There is no less than5\n"
          ]
        }
      ]
    },
    {
      "cell_type": "code",
      "source": [
        "20%4"
      ],
      "metadata": {
        "colab": {
          "base_uri": "https://localhost:8080/"
        },
        "id": "zL0tLvgJtFGt",
        "outputId": "f5887990-34d6-4986-ad9a-a66b2128dc6b"
      },
      "execution_count": null,
      "outputs": [
        {
          "output_type": "execute_result",
          "data": {
            "text/plain": [
              "0"
            ]
          },
          "metadata": {},
          "execution_count": 82
        }
      ]
    },
    {
      "cell_type": "code",
      "source": [
        "maths =  44\n",
        "if maths >= 45:\n",
        "  print(\"you are pass\")\n",
        "else:\n",
        "  print(\"you are fail\")"
      ],
      "metadata": {
        "colab": {
          "base_uri": "https://localhost:8080/"
        },
        "id": "HCpYXI6qtZuZ",
        "outputId": "4e98cb68-976a-4ba9-bb81-5e86829149a9"
      },
      "execution_count": null,
      "outputs": [
        {
          "output_type": "stream",
          "name": "stdout",
          "text": [
            "you are fail\n"
          ]
        }
      ]
    },
    {
      "cell_type": "code",
      "source": [
        "Yash =  \"going too delhi\"\n",
        "if Yash == \"going too ujjain\":\n",
        "  print(\"Yash is going too ujjain\")\n",
        "elif Yash == \"going too delhi\":\n",
        "  print(\"Yash is going too delhi\")\n",
        "else:\n",
        "  print(\"Yash is going too mumbai\")"
      ],
      "metadata": {
        "colab": {
          "base_uri": "https://localhost:8080/"
        },
        "id": "OogXgKICuD-f",
        "outputId": "fe9a8881-a7d6-40bb-c2bd-56368d184ea4"
      },
      "execution_count": null,
      "outputs": [
        {
          "output_type": "stream",
          "name": "stdout",
          "text": [
            "Yash is going too delhi\n"
          ]
        }
      ]
    },
    {
      "cell_type": "code",
      "source": [],
      "metadata": {
        "colab": {
          "base_uri": "https://localhost:8080/",
          "height": 106
        },
        "id": "YJikU7y4viVm",
        "outputId": "cf84a7ee-74b9-4b5a-8af2-c5a99fff1e32"
      },
      "execution_count": null,
      "outputs": [
        {
          "output_type": "error",
          "ename": "SyntaxError",
          "evalue": "expected ':' (<ipython-input-93-3dcb36da50e1>, line 8)",
          "traceback": [
            "\u001b[0;36m  File \u001b[0;32m\"<ipython-input-93-3dcb36da50e1>\"\u001b[0;36m, line \u001b[0;32m8\u001b[0m\n\u001b[0;31m    else age == 10:\u001b[0m\n\u001b[0m         ^\u001b[0m\n\u001b[0;31mSyntaxError\u001b[0m\u001b[0;31m:\u001b[0m expected ':'\n"
          ]
        }
      ]
    },
    {
      "cell_type": "code",
      "source": [
        "age  = 50\n",
        "if age == 50:\n",
        "  print(\"you are young\")\n",
        "elif 30<age<50:\n",
        "  print(\"you are middle age\")\n",
        "elif 40<age<50:\n",
        "  print(\"you are old\")\n",
        "else:\n",
        "  print(\"you are very old\")"
      ],
      "metadata": {
        "colab": {
          "base_uri": "https://localhost:8080/"
        },
        "id": "mpd_FCz60Ipm",
        "outputId": "7f3da29e-0bed-49d1-a749-9ca178f31905"
      },
      "execution_count": null,
      "outputs": [
        {
          "output_type": "stream",
          "name": "stdout",
          "text": [
            "you are young\n"
          ]
        }
      ]
    },
    {
      "cell_type": "code",
      "source": [
        "#nested if else"
      ],
      "metadata": {
        "id": "Qq2w45Vp2W08"
      },
      "execution_count": null,
      "outputs": []
    },
    {
      "cell_type": "code",
      "source": [],
      "metadata": {
        "id": "WWlj6xbr5flL"
      },
      "execution_count": null,
      "outputs": []
    }
  ]
}